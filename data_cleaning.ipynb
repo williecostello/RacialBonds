{
 "cells": [
  {
   "cell_type": "markdown",
   "metadata": {},
   "source": [
    "# Racial Bonds\n",
    "\n",
    "### A statistical analysis of pre-trial detention and bail bond practices in Connecticut\n",
    "\n",
    "#### by Willie Costello, for the [2020 Ethics4NextGen AI Hackathon](https://dataethics4all.org/ethics4nextgenai-hackathon/)"
   ]
  },
  {
   "cell_type": "code",
   "execution_count": 1,
   "metadata": {},
   "outputs": [],
   "source": [
    "import numpy as np\n",
    "import pandas as pd\n",
    "import matplotlib.pyplot as plt\n",
    "import seaborn as sns"
   ]
  },
  {
   "cell_type": "markdown",
   "metadata": {},
   "source": [
    "## Importing & cleaning the data\n",
    "\n",
    "The dataset for this analysis is the State of Connecticut's [\"Accused Pre-Trial Inmates in Correctional Facilities\"](https://data.ct.gov/Public-Safety/Accused-Pre-Trial-Inmates-in-Correctional-Faciliti/b674-jy6w). According to the website, this dataset is \"a listing, updated nightly, of individuals being held in Department of Correction facilities while awaiting trial, [on] each day beginning July 1, 2016.\""
   ]
  },
  {
   "cell_type": "code",
   "execution_count": 2,
   "metadata": {},
   "outputs": [],
   "source": [
    "# Read in data\n",
    "df = pd.read_csv('data/data.csv')"
   ]
  },
  {
   "cell_type": "code",
   "execution_count": 3,
   "metadata": {},
   "outputs": [
    {
     "data": {
      "text/html": [
       "<div>\n",
       "<style scoped>\n",
       "    .dataframe tbody tr th:only-of-type {\n",
       "        vertical-align: middle;\n",
       "    }\n",
       "\n",
       "    .dataframe tbody tr th {\n",
       "        vertical-align: top;\n",
       "    }\n",
       "\n",
       "    .dataframe thead th {\n",
       "        text-align: right;\n",
       "    }\n",
       "</style>\n",
       "<table border=\"1\" class=\"dataframe\">\n",
       "  <thead>\n",
       "    <tr style=\"text-align: right;\">\n",
       "      <th></th>\n",
       "      <th>DOWNLOAD DATE</th>\n",
       "      <th>IDENTIFIER</th>\n",
       "      <th>LATEST ADMISSION DATE</th>\n",
       "      <th>RACE</th>\n",
       "      <th>GENDER</th>\n",
       "      <th>AGE</th>\n",
       "      <th>BOND AMOUNT</th>\n",
       "      <th>OFFENSE</th>\n",
       "      <th>FACILITY</th>\n",
       "      <th>DETAINER</th>\n",
       "    </tr>\n",
       "  </thead>\n",
       "  <tbody>\n",
       "    <tr>\n",
       "      <th>0</th>\n",
       "      <td>07/19/2016</td>\n",
       "      <td>ZZSESWRJ</td>\n",
       "      <td>04/20/2016</td>\n",
       "      <td>BLACK</td>\n",
       "      <td>M</td>\n",
       "      <td>16</td>\n",
       "      <td>200000</td>\n",
       "      <td>CRIMINAL ATTEMPT</td>\n",
       "      <td>MANSON YI</td>\n",
       "      <td>NONE</td>\n",
       "    </tr>\n",
       "    <tr>\n",
       "      <th>1</th>\n",
       "      <td>07/19/2016</td>\n",
       "      <td>ZZSEWCJC</td>\n",
       "      <td>07/07/2016</td>\n",
       "      <td>HISPANIC</td>\n",
       "      <td>M</td>\n",
       "      <td>18</td>\n",
       "      <td>500000</td>\n",
       "      <td>STEALING A FIREARM                    DF</td>\n",
       "      <td>MANSON YI</td>\n",
       "      <td>NONE</td>\n",
       "    </tr>\n",
       "    <tr>\n",
       "      <th>2</th>\n",
       "      <td>07/19/2016</td>\n",
       "      <td>ZZRCCBBJ</td>\n",
       "      <td>07/06/2016</td>\n",
       "      <td>HISPANIC</td>\n",
       "      <td>M</td>\n",
       "      <td>48</td>\n",
       "      <td>101000</td>\n",
       "      <td>SALE OF NARC/AMPHET BY NON-DEPENDENT   F</td>\n",
       "      <td>CORRIGAN CI</td>\n",
       "      <td>NONE</td>\n",
       "    </tr>\n",
       "    <tr>\n",
       "      <th>3</th>\n",
       "      <td>07/19/2016</td>\n",
       "      <td>ZZRBBBJC</td>\n",
       "      <td>03/27/2015</td>\n",
       "      <td>BLACK</td>\n",
       "      <td>M</td>\n",
       "      <td>34</td>\n",
       "      <td>1000800</td>\n",
       "      <td>MURDER                                AF</td>\n",
       "      <td>GARNER</td>\n",
       "      <td>NONE</td>\n",
       "    </tr>\n",
       "    <tr>\n",
       "      <th>4</th>\n",
       "      <td>07/19/2016</td>\n",
       "      <td>ZZSZRRRL</td>\n",
       "      <td>04/18/2016</td>\n",
       "      <td>HISPANIC</td>\n",
       "      <td>M</td>\n",
       "      <td>22</td>\n",
       "      <td>95000</td>\n",
       "      <td>THREATENING                           AM</td>\n",
       "      <td>WALKER RC</td>\n",
       "      <td>NONE</td>\n",
       "    </tr>\n",
       "  </tbody>\n",
       "</table>\n",
       "</div>"
      ],
      "text/plain": [
       "  DOWNLOAD DATE IDENTIFIER LATEST ADMISSION DATE      RACE GENDER  AGE  \\\n",
       "0    07/19/2016   ZZSESWRJ            04/20/2016     BLACK      M   16   \n",
       "1    07/19/2016   ZZSEWCJC            07/07/2016  HISPANIC      M   18   \n",
       "2    07/19/2016   ZZRCCBBJ            07/06/2016  HISPANIC      M   48   \n",
       "3    07/19/2016   ZZRBBBJC            03/27/2015     BLACK      M   34   \n",
       "4    07/19/2016   ZZSZRRRL            04/18/2016  HISPANIC      M   22   \n",
       "\n",
       "   BOND AMOUNT                                   OFFENSE     FACILITY  \\\n",
       "0       200000                          CRIMINAL ATTEMPT    MANSON YI   \n",
       "1       500000  STEALING A FIREARM                    DF    MANSON YI   \n",
       "2       101000  SALE OF NARC/AMPHET BY NON-DEPENDENT   F  CORRIGAN CI   \n",
       "3      1000800  MURDER                                AF       GARNER   \n",
       "4        95000  THREATENING                           AM    WALKER RC   \n",
       "\n",
       "  DETAINER                                          \n",
       "0                                             NONE  \n",
       "1                                             NONE  \n",
       "2                                             NONE  \n",
       "3                                             NONE  \n",
       "4                                             NONE  "
      ]
     },
     "execution_count": 3,
     "metadata": {},
     "output_type": "execute_result"
    }
   ],
   "source": [
    "# Preview data\n",
    "df.head()"
   ]
  },
  {
   "cell_type": "code",
   "execution_count": 4,
   "metadata": {},
   "outputs": [],
   "source": [
    "# Rename columns\n",
    "df.columns = ['date', 'id', 'admit_date', 'race', 'gender', 'age', 'bond', 'offense', 'facility', 'detainer']"
   ]
  },
  {
   "cell_type": "code",
   "execution_count": 5,
   "metadata": {},
   "outputs": [
    {
     "name": "stdout",
     "output_type": "stream",
     "text": [
      "<class 'pandas.core.frame.DataFrame'>\n",
      "RangeIndex: 4774780 entries, 0 to 4774779\n",
      "Data columns (total 10 columns):\n",
      " #   Column      Dtype \n",
      "---  ------      ----- \n",
      " 0   date        object\n",
      " 1   id          object\n",
      " 2   admit_date  object\n",
      " 3   race        object\n",
      " 4   gender      object\n",
      " 5   age         int64 \n",
      " 6   bond        int64 \n",
      " 7   offense     object\n",
      " 8   facility    object\n",
      " 9   detainer    object\n",
      "dtypes: int64(2), object(8)\n",
      "memory usage: 364.3+ MB\n"
     ]
    }
   ],
   "source": [
    "# Check datatypes\n",
    "df.info()"
   ]
  },
  {
   "cell_type": "code",
   "execution_count": 6,
   "metadata": {},
   "outputs": [],
   "source": [
    "# Convert date columns to datetime\n",
    "df['date'] = pd.to_datetime(df['date'])\n",
    "df['admit_date'] = pd.to_datetime(df['admit_date'])"
   ]
  },
  {
   "cell_type": "code",
   "execution_count": 7,
   "metadata": {},
   "outputs": [
    {
     "data": {
      "text/plain": [
       "date          0\n",
       "id            0\n",
       "admit_date    0\n",
       "race          0\n",
       "gender        0\n",
       "age           0\n",
       "bond          0\n",
       "offense       0\n",
       "facility      0\n",
       "detainer      0\n",
       "dtype: int64"
      ]
     },
     "execution_count": 7,
     "metadata": {},
     "output_type": "execute_result"
    }
   ],
   "source": [
    "# Check for null values\n",
    "df.isna().sum()"
   ]
  },
  {
   "cell_type": "code",
   "execution_count": 8,
   "metadata": {},
   "outputs": [
    {
     "data": {
      "text/plain": [
       "6292"
      ]
     },
     "execution_count": 8,
     "metadata": {},
     "output_type": "execute_result"
    }
   ],
   "source": [
    "# Check for duplicate rows\n",
    "df.duplicated().sum()"
   ]
  },
  {
   "cell_type": "code",
   "execution_count": 9,
   "metadata": {},
   "outputs": [],
   "source": [
    "# Drop duplicate rows\n",
    "df.drop_duplicates(inplace=True)"
   ]
  },
  {
   "cell_type": "markdown",
   "metadata": {},
   "source": [
    "While exploring this dataset we noticed that a few inmate IDs were not formatted like the rest, which all begin with the characters `ZZ`. Upon further investigation, these rows are duplicates, which seem to have been entered twice when the inmate moved into the Northern Infirmary facility. As such, we will drop these rows from our dataframe."
   ]
  },
  {
   "cell_type": "code",
   "execution_count": 10,
   "metadata": {},
   "outputs": [],
   "source": [
    "# Drop all rows whose inmate ID does not start with ZZ\n",
    "df.drop(df[~df['id'].str.startswith('ZZ')].index, inplace=True)"
   ]
  },
  {
   "cell_type": "code",
   "execution_count": 11,
   "metadata": {},
   "outputs": [],
   "source": [
    "# Sort dataframe by date\n",
    "df.sort_values('date', inplace=True)\n",
    "df.reset_index(inplace=True, drop=True)"
   ]
  },
  {
   "cell_type": "code",
   "execution_count": 12,
   "metadata": {},
   "outputs": [],
   "source": [
    "# Various text cleaning transformations\n",
    "df['race'] = df['race'].str.title()\n",
    "df['race'].replace('Amer Ind', 'Indigenous', inplace=True)\n",
    "df['race'].replace('Hispanic', 'Latinx', inplace=True)\n",
    "df['offense'] = df['offense'].str.replace(',', '')"
   ]
  },
  {
   "cell_type": "code",
   "execution_count": 13,
   "metadata": {},
   "outputs": [],
   "source": [
    "# Dropping the Detainer column, because irrelevant to our purposes\n",
    "df.drop('detainer', axis=1, inplace=True)"
   ]
  },
  {
   "cell_type": "code",
   "execution_count": 14,
   "metadata": {},
   "outputs": [
    {
     "data": {
      "text/html": [
       "<div>\n",
       "<style scoped>\n",
       "    .dataframe tbody tr th:only-of-type {\n",
       "        vertical-align: middle;\n",
       "    }\n",
       "\n",
       "    .dataframe tbody tr th {\n",
       "        vertical-align: top;\n",
       "    }\n",
       "\n",
       "    .dataframe thead th {\n",
       "        text-align: right;\n",
       "    }\n",
       "</style>\n",
       "<table border=\"1\" class=\"dataframe\">\n",
       "  <thead>\n",
       "    <tr style=\"text-align: right;\">\n",
       "      <th></th>\n",
       "      <th>date</th>\n",
       "      <th>id</th>\n",
       "      <th>admit_date</th>\n",
       "      <th>race</th>\n",
       "      <th>gender</th>\n",
       "      <th>age</th>\n",
       "      <th>bond</th>\n",
       "      <th>offense</th>\n",
       "      <th>facility</th>\n",
       "    </tr>\n",
       "  </thead>\n",
       "  <tbody>\n",
       "    <tr>\n",
       "      <th>0</th>\n",
       "      <td>2016-07-01</td>\n",
       "      <td>ZZSEHBZZ</td>\n",
       "      <td>2016-02-29</td>\n",
       "      <td>White</td>\n",
       "      <td>M</td>\n",
       "      <td>29</td>\n",
       "      <td>350000</td>\n",
       "      <td>SEXUAL ASSAULT FIRST DEGREE           F</td>\n",
       "      <td>MACDOUGALL</td>\n",
       "    </tr>\n",
       "    <tr>\n",
       "      <th>1</th>\n",
       "      <td>2016-07-01</td>\n",
       "      <td>ZZRZBHWS</td>\n",
       "      <td>2014-12-30</td>\n",
       "      <td>Black</td>\n",
       "      <td>M</td>\n",
       "      <td>40</td>\n",
       "      <td>601361</td>\n",
       "      <td>ASSAULT ON POLICE OR FIRE OFFICER     CF</td>\n",
       "      <td>NORTHERN CI</td>\n",
       "    </tr>\n",
       "    <tr>\n",
       "      <th>2</th>\n",
       "      <td>2016-07-01</td>\n",
       "      <td>ZZESBHCH</td>\n",
       "      <td>2016-06-27</td>\n",
       "      <td>Latinx</td>\n",
       "      <td>M</td>\n",
       "      <td>46</td>\n",
       "      <td>25500</td>\n",
       "      <td>INJURY OR RISK OF INJURY TO MINOR      F</td>\n",
       "      <td>BRIDGEPORT CC</td>\n",
       "    </tr>\n",
       "    <tr>\n",
       "      <th>3</th>\n",
       "      <td>2016-07-01</td>\n",
       "      <td>ZZHJHHZR</td>\n",
       "      <td>2016-06-29</td>\n",
       "      <td>White</td>\n",
       "      <td>F</td>\n",
       "      <td>34</td>\n",
       "      <td>35000</td>\n",
       "      <td>VIOLATION OF PROBATION OR COND DISCHG</td>\n",
       "      <td>YORK CI</td>\n",
       "    </tr>\n",
       "    <tr>\n",
       "      <th>4</th>\n",
       "      <td>2016-07-01</td>\n",
       "      <td>ZZECSBWZ</td>\n",
       "      <td>2016-06-24</td>\n",
       "      <td>Black</td>\n",
       "      <td>M</td>\n",
       "      <td>44</td>\n",
       "      <td>12000</td>\n",
       "      <td>SALE OF HALLUCIGEN/NARCOTIC SUBSTANCE  F</td>\n",
       "      <td>NEW HAVEN CC</td>\n",
       "    </tr>\n",
       "  </tbody>\n",
       "</table>\n",
       "</div>"
      ],
      "text/plain": [
       "        date        id admit_date    race gender  age    bond  \\\n",
       "0 2016-07-01  ZZSEHBZZ 2016-02-29   White      M   29  350000   \n",
       "1 2016-07-01  ZZRZBHWS 2014-12-30   Black      M   40  601361   \n",
       "2 2016-07-01  ZZESBHCH 2016-06-27  Latinx      M   46   25500   \n",
       "3 2016-07-01  ZZHJHHZR 2016-06-29   White      F   34   35000   \n",
       "4 2016-07-01  ZZECSBWZ 2016-06-24   Black      M   44   12000   \n",
       "\n",
       "                                    offense       facility  \n",
       "0   SEXUAL ASSAULT FIRST DEGREE           F     MACDOUGALL  \n",
       "1  ASSAULT ON POLICE OR FIRE OFFICER     CF    NORTHERN CI  \n",
       "2  INJURY OR RISK OF INJURY TO MINOR      F  BRIDGEPORT CC  \n",
       "3     VIOLATION OF PROBATION OR COND DISCHG        YORK CI  \n",
       "4  SALE OF HALLUCIGEN/NARCOTIC SUBSTANCE  F   NEW HAVEN CC  "
      ]
     },
     "execution_count": 14,
     "metadata": {},
     "output_type": "execute_result"
    }
   ],
   "source": [
    "# Preview cleaned data\n",
    "df.head()"
   ]
  },
  {
   "cell_type": "markdown",
   "metadata": {},
   "source": [
    "## Transforming the data\n",
    "\n",
    "### Feature Engineering: Inmate of Colour column\n",
    "\n",
    "Our dataset encodes race as one of five values: Asian, Black, Indigenous, Latinx, or White. Because our main topic of investigation is racial disparities between White inmates and inmates of colour, here we create a new binary column indicating whether the inmate is White (0) or an inmate of color (1)."
   ]
  },
  {
   "cell_type": "code",
   "execution_count": 15,
   "metadata": {},
   "outputs": [],
   "source": [
    "# Create new column indicating whether the inmate is White or an inmate of colour\n",
    "df['ioc'] = np.where(df['race']=='White', 0, 1)"
   ]
  },
  {
   "cell_type": "markdown",
   "metadata": {},
   "source": [
    "### Feature Engineering: Offense information\n",
    "\n",
    "The Offense column contains important information for our purposes, recording the controlling offense for which the inmate was arrested and for which the bond amount was set. The column values, however, are poorly formatted, consisting of a number of different individual descriptions that in themselves do not allow us to easily track shared features between the offenses."
   ]
  },
  {
   "cell_type": "code",
   "execution_count": 16,
   "metadata": {},
   "outputs": [
    {
     "name": "stdout",
     "output_type": "stream",
     "text": [
      "Number of unique offenses recorded in the dataset: 364\n"
     ]
    }
   ],
   "source": [
    "# List unique offenses in dataset\n",
    "offenses = np.unique(df['offense']).tolist()\n",
    "print('Number of unique offenses recorded in the dataset:', len(offenses))"
   ]
  },
  {
   "cell_type": "code",
   "execution_count": 17,
   "metadata": {},
   "outputs": [
    {
     "data": {
      "text/plain": [
       "ASSAULT FIRST DEGREE                 BF     190072\n",
       "ASSAULT ON POLICE OR FIRE OFFICER     CF    110286\n",
       "ASSAULT THIRD DEGREE                 AM      91598\n",
       "ASSAULT SECOND DEGREE                DF      86311\n",
       "ASSAULT 1ST VICTIM 60 OR OVER        BF      18490\n",
       "ASSAULT 3RD DEGREE VICTIM OVER 59    AM      11384\n",
       "ASSAULT 2ND WITH MV WHILE INTOXICATED DF      9089\n",
       "ASSAULT 2ND VICTIM 60 OR OVER        DF       8536\n",
       "ASSAULT 2ND DEGREE WITH A FIREARM     DF      6401\n",
       "ASSAULT ON DOC EMPLOYEE              BF        362\n",
       "ASSAULT 2ND VICTIM 60+ WITH FIREARM DF         110\n",
       "Name: offense, dtype: int64"
      ]
     },
     "execution_count": 17,
     "metadata": {},
     "output_type": "execute_result"
    }
   ],
   "source": [
    "# An example of similar offenses\n",
    "df[df['offense'].str.startswith('ASSAULT')]['offense'].value_counts()"
   ]
  },
  {
   "cell_type": "markdown",
   "metadata": {},
   "source": [
    "As the above example demonstrates, there are number of different kinds of assault recorded in the Offense column, ranging in degree and object. For data analysis purposes, however, we may have reason to group these various offenses together, so as to contrast them with other offense types.\n",
    "\n",
    "A straightforward way to simplify the Offense column is simply to take the first word of each description. This method is not perfect, as it will group some different offenses together that shouldn't be, but it will serve our purposes well enough for the moment."
   ]
  },
  {
   "cell_type": "code",
   "execution_count": 18,
   "metadata": {},
   "outputs": [],
   "source": [
    "# Abbreviate offense to first word\n",
    "df['off_abbr'] = df['offense'].str.split(' ').str.get(0)"
   ]
  },
  {
   "cell_type": "code",
   "execution_count": 19,
   "metadata": {},
   "outputs": [
    {
     "name": "stdout",
     "output_type": "stream",
     "text": [
      "Number of unique abbreviated offenses recorded in the dataset: 180\n"
     ]
    }
   ],
   "source": [
    "# List unique offenses in abbreviated list\n",
    "off_abbrs = np.unique(df['off_abbr']).tolist()\n",
    "print('Number of unique abbreviated offenses recorded in the dataset:', len(off_abbrs))"
   ]
  },
  {
   "cell_type": "markdown",
   "metadata": {},
   "source": [
    "Still a big number of offense types to work with, but much more manageable than before.\n",
    "\n",
    "It will also be helpful to record the degree of each offense (when indicated) in its own column, so that we can compare different degrees of the same offense with one another."
   ]
  },
  {
   "cell_type": "code",
   "execution_count": 20,
   "metadata": {},
   "outputs": [],
   "source": [
    "# Create binary columns indicating first, second, and third degree offenses\n",
    "df['deg_1'] = df['offense'].str.contains('1ST|FIRST').astype(int)\n",
    "df['deg_2'] = df['offense'].str.contains('2ND|SECOND').astype(int)\n",
    "df['deg_3'] = df['offense'].str.contains('3RD|THIRD').astype(int)\n",
    "\n",
    "# Create single column indicating degree of offense\n",
    "df['deg'] = df['deg_1'] + (2 * df['deg_2']) + (3 * df['deg_3'])\n",
    "\n",
    "# For offenses without a degree, list degree as NaN\n",
    "df['deg'] = df['deg'].replace(0, np.NaN)"
   ]
  },
  {
   "cell_type": "markdown",
   "metadata": {},
   "source": [
    "### Data Imputation: Bond amount\n",
    "\n",
    "According to the dataset's webpage, some of the bond amount values are erroneous: \"For particularly low values (less than \\\\$100), this bond amount may be considered a place holder value.\" Since we are primarily interested in investigating differences in bond amount across inmates, we will treat all bond amounts less than or equal to 100 as missing values, and then impute those missing values with the median bond amount for its particular offense."
   ]
  },
  {
   "cell_type": "code",
   "execution_count": 21,
   "metadata": {},
   "outputs": [],
   "source": [
    "# Rename original bond column\n",
    "df.rename(columns={'bond':'bond_orig'}, inplace=True)\n",
    "\n",
    "# Recast all bond values less than or equal to 100 as NaNs\n",
    "df['bond'] = np.where(df['bond_orig'] <= 100, np.NaN, df['bond_orig'])\n",
    "\n",
    "# Impute missing bond values with median bond values for the offense\n",
    "df['bond'] = df['bond'].fillna(df.groupby('offense')['bond'].transform('median'))\n",
    "\n",
    "# Impute remaining missing values with original bond value\n",
    "df['bond'] = df['bond'].fillna(df['bond_orig'])\n",
    "\n",
    "# Recast bond value as integer\n",
    "df['bond'] = df['bond'].astype(int)"
   ]
  },
  {
   "cell_type": "markdown",
   "metadata": {},
   "source": [
    "### Data Imputation: Admission Date\n",
    "\n",
    "According to the dataset's webpage, some of the admission date values are also erroneous:\n",
    "\n",
    "> In some instances, this may reflect an original date of admission to a correctional facility. Generally, if a date is more than one year old, an inmate should not be considered to have been held for the entire duration of that time.\n",
    "\n",
    "We know from the dataset that some inmates are incarcerated for more longer than a year as they await trial, since they are recorded as being in a correctional facility every day since their admission. However, there are indeed some erroneous admission date values in the dataset. \n",
    "\n",
    "We begin by correcting the erroneous admission dates for inmates incarcerated on the first day in our dataset. We assume that admission dates less than two years before the first day in our dataset are true. For admission dates more than two years before the first day, we replace those with the median admission date for inmates incarcerated for less than two years on the first day in our dataset."
   ]
  },
  {
   "cell_type": "code",
   "execution_count": 22,
   "metadata": {},
   "outputs": [],
   "source": [
    "# Rename original admission date column\n",
    "df.rename(columns={'admit_date':'admit_date_orig'}, inplace=True)"
   ]
  },
  {
   "cell_type": "code",
   "execution_count": 23,
   "metadata": {},
   "outputs": [],
   "source": [
    "# Find median admission date for inmates incarcerated for less than 2 years on first day in dataset\n",
    "first_admits = df[(df['date']=='2016-07-01') & (df['admit_date_orig'] >= '2014-07-01')]['admit_date_orig'].tolist()\n",
    "first_admits.sort()\n",
    "median_admit = first_admits[len(first_admits)//2]\n",
    "\n",
    "# Create a new column with median admission date\n",
    "df['median_admit'] = pd.to_datetime(median_admit)\n",
    "\n",
    "# Replace admission dates older than 2 years before first day in dataset with median\n",
    "df['admit_date'] = np.where(((df['date']=='2016-07-01') & (df['admit_date_orig'] < '2014-07-01')), df['median_admit'], df['admit_date_orig'])\n",
    "\n",
    "# Drop median admission date column\n",
    "df.drop('median_admit', axis=1, inplace=True)"
   ]
  },
  {
   "cell_type": "markdown",
   "metadata": {},
   "source": [
    "It also turns out that there are some rows in our dataset where the admission date is *after* the current date. We will update these rows so that the current date is one day after the admission date, as it seems it's meant to be."
   ]
  },
  {
   "cell_type": "code",
   "execution_count": 24,
   "metadata": {},
   "outputs": [],
   "source": [
    "df['date'] = np.where(df['admit_date'] > df['date'], df['admit_date'] + pd.DateOffset(days=1), df['date'])"
   ]
  },
  {
   "cell_type": "markdown",
   "metadata": {},
   "source": [
    "The remainder of our erroneous admissions date come from cases where an earlier admission is listed, even though we can see from our data that the inmate was admitted later (i.e., one day before they started appearing in the dataset). We found it too tricky to update these admission dates in our full dataset; instead we created a separate dataframe with an adjusted admission date for each relevant inmate. For any inmate whose admission date is more than thirty days before their first day in prison, we've updated their admission date to be one day before their first day. (We recognize that this method is not perfect, but it is good enough for our purposes, and is much better than leaving these data untouched or dropping them.)"
   ]
  },
  {
   "cell_type": "code",
   "execution_count": 25,
   "metadata": {},
   "outputs": [],
   "source": [
    "# Find each inmate's first day in prison, by finding the earliest date for each inmate's date of admission\n",
    "first_days = df.groupby(['id', 'admit_date'])['date'].min()\n",
    "first_days = pd.DataFrame(first_days).reset_index()"
   ]
  },
  {
   "cell_type": "code",
   "execution_count": 26,
   "metadata": {},
   "outputs": [],
   "source": [
    "# Calculate the difference between the admission date and their first day\n",
    "first_days['diff'] = (first_days['admit_date'] - first_days['date']).dt.days"
   ]
  },
  {
   "cell_type": "code",
   "execution_count": 27,
   "metadata": {},
   "outputs": [],
   "source": [
    "# Replace admission dates more than 30 days before their first day with the day before \n",
    "first_days['admit_date_corr'] = np.where(((first_days['diff'] < -30) & (first_days['date'] != '2016-07-01')), \n",
    "                                         first_days['date'] - pd.DateOffset(days=1), first_days['admit_date'])"
   ]
  },
  {
   "cell_type": "markdown",
   "metadata": {},
   "source": [
    "### Data Collation: Inmate dataframe\n",
    "\n",
    "For the purposes of many of our subsequent analyses, it is necessary to have a dataframe that is grouped by each individual inmate (on each of their individual arrests, for repeat offenders). We create this dataframe below."
   ]
  },
  {
   "cell_type": "code",
   "execution_count": 28,
   "metadata": {},
   "outputs": [
    {
     "data": {
      "text/html": [
       "<div>\n",
       "<style scoped>\n",
       "    .dataframe tbody tr th:only-of-type {\n",
       "        vertical-align: middle;\n",
       "    }\n",
       "\n",
       "    .dataframe tbody tr th {\n",
       "        vertical-align: top;\n",
       "    }\n",
       "\n",
       "    .dataframe thead th {\n",
       "        text-align: right;\n",
       "    }\n",
       "</style>\n",
       "<table border=\"1\" class=\"dataframe\">\n",
       "  <thead>\n",
       "    <tr style=\"text-align: right;\">\n",
       "      <th></th>\n",
       "      <th>id</th>\n",
       "      <th>last_date</th>\n",
       "      <th>age</th>\n",
       "      <th>admit_date</th>\n",
       "      <th>race</th>\n",
       "      <th>gender</th>\n",
       "      <th>offense</th>\n",
       "      <th>facility</th>\n",
       "      <th>ioc</th>\n",
       "      <th>off_abbr</th>\n",
       "      <th>deg_1</th>\n",
       "      <th>deg_2</th>\n",
       "      <th>deg_3</th>\n",
       "      <th>deg</th>\n",
       "      <th>bond</th>\n",
       "    </tr>\n",
       "  </thead>\n",
       "  <tbody>\n",
       "    <tr>\n",
       "      <th>0</th>\n",
       "      <td>ZZEBBBCS</td>\n",
       "      <td>2018-09-27</td>\n",
       "      <td>47</td>\n",
       "      <td>2018-08-21</td>\n",
       "      <td>White</td>\n",
       "      <td>M</td>\n",
       "      <td>FAILURE TO APPEAR FIRST DEGREE       DF</td>\n",
       "      <td>NORTHERN CI</td>\n",
       "      <td>0</td>\n",
       "      <td>FAILURE</td>\n",
       "      <td>1</td>\n",
       "      <td>0</td>\n",
       "      <td>0</td>\n",
       "      <td>1.0</td>\n",
       "      <td>900000</td>\n",
       "    </tr>\n",
       "    <tr>\n",
       "      <th>1</th>\n",
       "      <td>ZZEBBBCS</td>\n",
       "      <td>2019-01-28</td>\n",
       "      <td>47</td>\n",
       "      <td>2018-12-18</td>\n",
       "      <td>White</td>\n",
       "      <td>M</td>\n",
       "      <td>SALE OF HEROIN COC BY NON-DEPENDENT</td>\n",
       "      <td>NORTHERN CI</td>\n",
       "      <td>0</td>\n",
       "      <td>SALE</td>\n",
       "      <td>0</td>\n",
       "      <td>0</td>\n",
       "      <td>0</td>\n",
       "      <td>NaN</td>\n",
       "      <td>1501985</td>\n",
       "    </tr>\n",
       "    <tr>\n",
       "      <th>2</th>\n",
       "      <td>ZZEBBBJW</td>\n",
       "      <td>2016-10-21</td>\n",
       "      <td>43</td>\n",
       "      <td>2016-08-24</td>\n",
       "      <td>White</td>\n",
       "      <td>M</td>\n",
       "      <td>INJURY OR RISK OF INJURY TO MINOR      F</td>\n",
       "      <td>NEW HAVEN CC</td>\n",
       "      <td>0</td>\n",
       "      <td>INJURY</td>\n",
       "      <td>0</td>\n",
       "      <td>0</td>\n",
       "      <td>0</td>\n",
       "      <td>NaN</td>\n",
       "      <td>15000</td>\n",
       "    </tr>\n",
       "    <tr>\n",
       "      <th>3</th>\n",
       "      <td>ZZEBBBJW</td>\n",
       "      <td>2017-07-13</td>\n",
       "      <td>44</td>\n",
       "      <td>2017-07-06</td>\n",
       "      <td>White</td>\n",
       "      <td>M</td>\n",
       "      <td>CRIM VIOL OF PROTECTIVE ORDER         AM</td>\n",
       "      <td>HARTFORD CC</td>\n",
       "      <td>0</td>\n",
       "      <td>CRIM</td>\n",
       "      <td>0</td>\n",
       "      <td>0</td>\n",
       "      <td>0</td>\n",
       "      <td>NaN</td>\n",
       "      <td>100000</td>\n",
       "    </tr>\n",
       "    <tr>\n",
       "      <th>4</th>\n",
       "      <td>ZZEBBBJW</td>\n",
       "      <td>2018-12-04</td>\n",
       "      <td>46</td>\n",
       "      <td>2018-09-27</td>\n",
       "      <td>White</td>\n",
       "      <td>M</td>\n",
       "      <td>VIOLATION OF PROBATION OR COND DISCHG</td>\n",
       "      <td>HARTFORD CC</td>\n",
       "      <td>0</td>\n",
       "      <td>VIOLATION</td>\n",
       "      <td>0</td>\n",
       "      <td>0</td>\n",
       "      <td>0</td>\n",
       "      <td>NaN</td>\n",
       "      <td>50000</td>\n",
       "    </tr>\n",
       "  </tbody>\n",
       "</table>\n",
       "</div>"
      ],
      "text/plain": [
       "         id  last_date  age admit_date   race gender  \\\n",
       "0  ZZEBBBCS 2018-09-27   47 2018-08-21  White      M   \n",
       "1  ZZEBBBCS 2019-01-28   47 2018-12-18  White      M   \n",
       "2  ZZEBBBJW 2016-10-21   43 2016-08-24  White      M   \n",
       "3  ZZEBBBJW 2017-07-13   44 2017-07-06  White      M   \n",
       "4  ZZEBBBJW 2018-12-04   46 2018-09-27  White      M   \n",
       "\n",
       "                                    offense      facility  ioc   off_abbr  \\\n",
       "0   FAILURE TO APPEAR FIRST DEGREE       DF   NORTHERN CI    0    FAILURE   \n",
       "1       SALE OF HEROIN COC BY NON-DEPENDENT   NORTHERN CI    0       SALE   \n",
       "2  INJURY OR RISK OF INJURY TO MINOR      F  NEW HAVEN CC    0     INJURY   \n",
       "3  CRIM VIOL OF PROTECTIVE ORDER         AM   HARTFORD CC    0       CRIM   \n",
       "4     VIOLATION OF PROBATION OR COND DISCHG   HARTFORD CC    0  VIOLATION   \n",
       "\n",
       "   deg_1  deg_2  deg_3  deg     bond  \n",
       "0      1      0      0  1.0   900000  \n",
       "1      0      0      0  NaN  1501985  \n",
       "2      0      0      0  NaN    15000  \n",
       "3      0      0      0  NaN   100000  \n",
       "4      0      0      0  NaN    50000  "
      ]
     },
     "execution_count": 28,
     "metadata": {},
     "output_type": "execute_result"
    }
   ],
   "source": [
    "# Find each inmate's last day in prison, by finding the latest date for each inmate's date of admission\n",
    "# (This ensures that repeat offenders are counted for each of their offenses)\n",
    "last_days = df.groupby(['id', 'admit_date'])['date'].max()\n",
    "last_days = pd.DataFrame(last_days).reset_index()\n",
    "\n",
    "# Find each inmate's age when arrested, by finding minimum age for each inmate's date of admission\n",
    "age_arrested = df.groupby(['id', 'admit_date'])['age'].min()\n",
    "age_arrested = pd.DataFrame(age_arrested).reset_index()\n",
    "\n",
    "# Add age arrested to first dataframe\n",
    "last_days['age_arrested'] = age_arrested['age']\n",
    "\n",
    "# Add corrected admission date to dataframe\n",
    "last_days['admit_date_corr'] = first_days['admit_date_corr']\n",
    "\n",
    "# Merge this dataframe with original dataframe, to include all available information about each inmate\n",
    "inmate_df = pd.merge(last_days, df, on=['date', 'admit_date', 'id'])\n",
    "\n",
    "# Drop unneeded columns, rename updated columns\n",
    "inmate_df.drop(['admit_date', 'admit_date_orig', 'bond_orig', 'age'], axis=1, inplace=True)\n",
    "inmate_df.rename(columns={'date':'last_date', 'admit_date_corr':'admit_date', 'age_arrested':'age'}, inplace=True)\n",
    "\n",
    "# Preview merged dataframe\n",
    "inmate_df.head()"
   ]
  },
  {
   "cell_type": "markdown",
   "metadata": {},
   "source": [
    "### Feature Engineering: Days Spent Incarcerated column"
   ]
  },
  {
   "cell_type": "code",
   "execution_count": 29,
   "metadata": {},
   "outputs": [],
   "source": [
    "# Calculate the number of days spent incarcerated\n",
    "inmate_df['days_spent'] = (inmate_df['last_date'] - inmate_df['admit_date']).dt.days"
   ]
  },
  {
   "cell_type": "markdown",
   "metadata": {},
   "source": [
    "### Feature Engineering: Repeat Offender column"
   ]
  },
  {
   "cell_type": "code",
   "execution_count": 30,
   "metadata": {},
   "outputs": [],
   "source": [
    "# Create column indicating whether inmate has been arrested before this offense\n",
    "inmate_df['repeat'] = inmate_df['id'].duplicated().astype(int)"
   ]
  },
  {
   "cell_type": "markdown",
   "metadata": {},
   "source": [
    "## Exporting data"
   ]
  },
  {
   "cell_type": "code",
   "execution_count": 31,
   "metadata": {},
   "outputs": [],
   "source": [
    "df.drop(['admit_date_orig', 'bond'], axis=1).to_csv('data/data_clean.csv', index=False)\n",
    "inmate_df.to_csv('data/inmate_data.csv', index=False)"
   ]
  }
 ],
 "metadata": {
  "kernelspec": {
   "display_name": "Python 3",
   "language": "python",
   "name": "python3"
  },
  "language_info": {
   "codemirror_mode": {
    "name": "ipython",
    "version": 3
   },
   "file_extension": ".py",
   "mimetype": "text/x-python",
   "name": "python",
   "nbconvert_exporter": "python",
   "pygments_lexer": "ipython3",
   "version": "3.7.4"
  }
 },
 "nbformat": 4,
 "nbformat_minor": 4
}
